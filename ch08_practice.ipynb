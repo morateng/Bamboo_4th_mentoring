{
 "cells": [
  {
   "cell_type": "code",
   "execution_count": 1,
   "metadata": {
    "collapsed": true
   },
   "outputs": [
    {
     "name": "stdout",
     "output_type": "stream",
     "text": [
      "{'my': 5, 'cat': 6, 'has': 2, 'blue': 3, 'eyes,': 4, 'is': 7, 'cute': 8}\n"
     ]
    }
   ],
   "source": [
    "cat_song = \"my cat has blue eyes, my cat is cute\"\n",
    "print({i:j for j,i in enumerate(cat_song.split())})"
   ]
  },
  {
   "cell_type": "code",
   "execution_count": 2,
   "outputs": [
    {
     "name": "stdout",
     "output_type": "stream",
     "text": [
      "['a', '2', 'error']\n"
     ]
    }
   ],
   "source": [
    "#12 : ['a', '2', 'error']\n",
    "alist=[\"a\",\"b\",\"c\"]\n",
    "blist=[\"1\",\"2\",\"3\"]\n",
    "abcd=[]\n",
    "for a,b in enumerate(zip(alist,blist)):\n",
    "    #zip(alist,blist) = (('a','1'),('b','2'),('c','3'))\n",
    "    #a=0,1,2\n",
    "    #b=(('a','1'),('b','2'),('c','3'))\n",
    "    try:\n",
    "        abcd.append(b[a]) #'a','2',2번 인덱스는 없다\n",
    "    except IndexError:\n",
    "        abcd.append(\"error\")\n",
    "print(abcd)"
   ],
   "metadata": {
    "collapsed": false
   }
  },
  {
   "cell_type": "code",
   "execution_count": null,
   "outputs": [],
   "source": [],
   "metadata": {
    "collapsed": false
   }
  }
 ],
 "metadata": {
  "kernelspec": {
   "display_name": "Python 3",
   "language": "python",
   "name": "python3"
  },
  "language_info": {
   "codemirror_mode": {
    "name": "ipython",
    "version": 2
   },
   "file_extension": ".py",
   "mimetype": "text/x-python",
   "name": "python",
   "nbconvert_exporter": "python",
   "pygments_lexer": "ipython2",
   "version": "2.7.6"
  }
 },
 "nbformat": 4,
 "nbformat_minor": 0
}
