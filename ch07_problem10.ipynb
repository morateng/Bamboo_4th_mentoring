{
 "cells": [
  {
   "cell_type": "code",
   "execution_count": 1,
   "metadata": {
    "collapsed": true
   },
   "outputs": [
    {
     "name": "stdout",
     "output_type": "stream",
     "text": [
      "[1, 2, 3, 4, 5, 6]\n"
     ]
    }
   ],
   "source": [
    "tuple_1 = (1,2,3)\n",
    "tuple_2 = (4,5,6)\n",
    "\n",
    "def quiz_1(data_1,data_2):\n",
    "    result = []\n",
    "    for i in (tuple_1+tuple_2):\n",
    "        result.append(i)\n",
    "    return (result)\n",
    "print(quiz_1(tuple_1,tuple_2))"
   ]
  },
  {
   "cell_type": "code",
   "execution_count": 2,
   "outputs": [
    {
     "data": {
      "text/plain": "[1, 2, 3, 4, 5, 6]"
     },
     "execution_count": 2,
     "metadata": {},
     "output_type": "execute_result"
    }
   ],
   "source": [
    "quiz_1(tuple_1, tuple_2)"
   ],
   "metadata": {
    "collapsed": false
   }
  },
  {
   "cell_type": "code",
   "execution_count": 3,
   "outputs": [
    {
     "name": "stdout",
     "output_type": "stream",
     "text": [
      "[0, 1, 2, 3, 4, 5, 6, 7, 8, 9]\n"
     ]
    }
   ],
   "source": [
    "a = list(range(10)) #[0,1,2,3,4,5,6,7,8,9]\n",
    "a.append(a[3]) #[0,1,2,3,4,5,6,7,8,9,3]\n",
    "a.pop(a[3]) #[0,1,2,4,5,6,7,8,9,3]\n",
    "a.insert(3,a[-1]) #[0,1,2,3,4,5,6,7,8,9,3]\n",
    "a.pop() ##[0,1,2,3,4,5,6,7,8,9]\n",
    "print(a)"
   ],
   "metadata": {
    "collapsed": false
   }
  },
  {
   "cell_type": "code",
   "execution_count": 4,
   "outputs": [
    {
     "name": "stdout",
     "output_type": "stream",
     "text": [
      "dict_keys(['one', 'two', 'three'])\n",
      "dict_values([(1, 2, 3, 4, 5, 6), [1, 2, 3, 4, 5, 6], {'four': 4, 'five': 5}])\n",
      "(1,)\n",
      "[1]\n",
      "error\n",
      "error\n",
      "a\n",
      "a\n",
      "dict_keys(['one', 'two', 'three'])\n",
      "dict_values([(1, 2, 3, 4, 5, 6), [1, 2, 3, 4, 5, 'a'], {'four': 4, 'five': 5, -1: 'a'}])\n"
     ]
    }
   ],
   "source": [
    "data_1 = {'one' : (1,2,3,4,5,6), 'two' : [1,2,3,4,5,6], 'three' : {'four' : 4, 'five' : 5}}\n",
    "print(data_1.keys())\n",
    "print(data_1.values())\n",
    "\n",
    "for k in ['one','two','three']:\n",
    "    try:\n",
    "        print(data_1[k][:1])\n",
    "    except TypeError :\n",
    "        print(\"error\")\n",
    "\n",
    "for k in ['one','two','three']:\n",
    "    try:\n",
    "        data_1[k][-1] = \"a\"\n",
    "        print(data_1[k][-1])\n",
    "    except TypeError :\n",
    "        print(\"error\")\n",
    "print(data_1.keys())\n",
    "print(data_1.values())"
   ],
   "metadata": {
    "collapsed": false
   }
  },
  {
   "cell_type": "code",
   "execution_count": 5,
   "outputs": [
    {
     "name": "stdout",
     "output_type": "stream",
     "text": [
      "0\n"
     ]
    },
    {
     "name": "stderr",
     "output_type": "stream",
     "text": [
      "<>:5: SyntaxWarning: \"is\" with a literal. Did you mean \"==\"?\n",
      "<>:8: SyntaxWarning: \"is\" with a literal. Did you mean \"==\"?\n",
      "<>:5: SyntaxWarning: \"is\" with a literal. Did you mean \"==\"?\n",
      "<>:8: SyntaxWarning: \"is\" with a literal. Did you mean \"==\"?\n",
      "C:\\Users\\morat\\AppData\\Local\\Temp/ipykernel_9776/2301753029.py:5: SyntaxWarning: \"is\" with a literal. Did you mean \"==\"?\n",
      "  if i is 5:\n",
      "C:\\Users\\morat\\AppData\\Local\\Temp/ipykernel_9776/2301753029.py:8: SyntaxWarning: \"is\" with a literal. Did you mean \"==\"?\n",
      "  if i is 10:\n"
     ]
    }
   ],
   "source": [
    "def practice8():\n",
    "    first_value=0\n",
    "    second_value=0\n",
    "    for i in range(1,10):\n",
    "        if i is 5:\n",
    "            continue\n",
    "            first_value=i\n",
    "        if i is 10:\n",
    "            break\n",
    "            second_value=i\n",
    "    print(first_value+second_value)\n",
    "practice8()"
   ],
   "metadata": {
    "collapsed": false
   }
  },
  {
   "cell_type": "code",
   "execution_count": 6,
   "outputs": [
    {
     "name": "stdout",
     "output_type": "stream",
     "text": [
      "?Yoeu MLo ve\n"
     ]
    }
   ],
   "source": [
    "sentence = list('You Love Me?')\n",
    "result = ''\n",
    "for i in range(len(sentence)):\n",
    "    if i % 3 == 0:\n",
    "        result += sentence.pop()\n",
    "    else:\n",
    "        result += sentence.pop(0)\n",
    "print(result)"
   ],
   "metadata": {
    "collapsed": false
   }
  },
  {
   "cell_type": "code",
   "execution_count": null,
   "outputs": [],
   "source": [],
   "metadata": {
    "collapsed": false
   }
  }
 ],
 "metadata": {
  "kernelspec": {
   "display_name": "Python 3",
   "language": "python",
   "name": "python3"
  },
  "language_info": {
   "codemirror_mode": {
    "name": "ipython",
    "version": 2
   },
   "file_extension": ".py",
   "mimetype": "text/x-python",
   "name": "python",
   "nbconvert_exporter": "python",
   "pygments_lexer": "ipython2",
   "version": "2.7.6"
  }
 },
 "nbformat": 4,
 "nbformat_minor": 0
}
